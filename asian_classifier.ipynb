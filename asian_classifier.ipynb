{
  "nbformat": 4,
  "nbformat_minor": 0,
  "metadata": {
    "colab": {
      "name": "asian_classifier.ipynb",
      "provenance": [],
      "collapsed_sections": []
    },
    "kernelspec": {
      "name": "python3",
      "display_name": "Python 3"
    }
  },
  "cells": [
    {
      "cell_type": "code",
      "metadata": {
        "id": "-FYu0Wwh91m1"
      },
      "source": [
        "# Update fastai to v2\r\n",
        "!pip install fastai --upgrade"
      ],
      "execution_count": null,
      "outputs": []
    },
    {
      "cell_type": "code",
      "metadata": {
        "id": "WrLt9FwF4SIF"
      },
      "source": [
        "# Imports\r\n",
        "from fastai.vision.all import *\r\n",
        "from fastai.vision.widgets import *"
      ],
      "execution_count": 6,
      "outputs": []
    },
    {
      "cell_type": "markdown",
      "metadata": {
        "id": "yV5fyaCY3JTm"
      },
      "source": [
        "# East Asian Identifier\r\n",
        "Need to check if someone is an East Asian? Can't tell with your own eyes? Upload an image of them to check if the EAi (East-Asian-identifier; pronounced E-YAY) can recognize them as an East Asian."
      ]
    },
    {
      "cell_type": "code",
      "metadata": {
        "id": "KXIlMPbl3z_j"
      },
      "source": [
        "# Import the .pkl file\r\n",
        "path = Path()\r\n",
        "learn_inf = load_learner(path/'export.pkl')"
      ],
      "execution_count": null,
      "outputs": []
    },
    {
      "cell_type": "code",
      "metadata": {
        "id": "nY0YUaqA3FwN"
      },
      "source": [
        "# Create all the widgets\r\n",
        "upload_btn = widgets.FileUpload()\r\n",
        "out_img = widgets.Output()\r\n",
        "lbl_pred = widgets.Label()\r\n",
        "run_btn = widgets.Button(description = 'Predict')\r\n",
        "lbl_trigger = widgets.Label()"
      ],
      "execution_count": 14,
      "outputs": []
    },
    {
      "cell_type": "code",
      "metadata": {
        "id": "I-DhFosw33c7"
      },
      "source": [
        "# Button click function\r\n",
        "def run_btn_clicked(change):\r\n",
        "  if upload_btn.data == None:\r\n",
        "    return\r\n",
        "  img = PILImage.create(upload_btn.data[-1])\r\n",
        "  out_img.clear_output()\r\n",
        "  with out_img: display(img.to_thumb(128, 128))\r\n",
        "  pred, pred_idx, probs = learn_inf.predict(img)\r\n",
        "  if probs[pred_idx] < 0.8:\r\n",
        "    lbl_pred.value = f'Doesn\\'t seem Asian to me.'\r\n",
        "    lbl_trigger.value = \"Come back later with an Asian.\"\r\n",
        "  else:\r\n",
        "    lbl_pred.value = f'Prediction: {pred}; Probability: {probs[pred_idx]:.04f}'\r\n",
        "    if pred_idx == 0:           # boy\r\n",
        "      lbl_trigger.value = \"Have a nice day, boy.\"\r\n",
        "    elif pred_idx == 1:         # girl\r\n",
        "      lbl_trigger.value = \"Have a nice day, girl.\"\r\n",
        "    elif pred_idx == 2:         # man\r\n",
        "      lbl_trigger.value = \"Have a nice day, man.\"\r\n",
        "    else:                       # woman\r\n",
        "      lbl_trigger.value = \"Have a nice day, woman.\"\r\n",
        "\r\n",
        "\r\n",
        "run_btn.on_click(run_btn_clicked)"
      ],
      "execution_count": 15,
      "outputs": []
    },
    {
      "cell_type": "code",
      "metadata": {
        "id": "c30NVMi23yRf"
      },
      "source": [
        "# VBox for the widgets\r\n",
        "VBox([widgets.Label('Select your human:'),\r\n",
        "      upload_btn, run_btn, out_img, lbl_pred, lbl_trigger])"
      ],
      "execution_count": null,
      "outputs": []
    }
  ]
}